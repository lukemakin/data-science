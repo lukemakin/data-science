{
 "cells": [
  {
   "cell_type": "code",
   "execution_count": 152,
   "metadata": {},
   "outputs": [],
   "source": [
    "import matplotlib.pyplot as plt\n",
    "import pandas as pd\n",
    "import numpy as np\n",
    "\n",
    "%matplotlib inline"
   ]
  },
  {
   "cell_type": "code",
   "execution_count": 153,
   "metadata": {},
   "outputs": [],
   "source": [
    "# df1 = pd.read_csv('mls-salaries-2007.csv')\n",
    "# df1['Year'] = 2007\n",
    "# df1 = pd.read_csv('mls-salaries-2008.csv')\n",
    "# df1['Year'] = 2008\n",
    "# df1 = pd.read_csv('mls-salaries-2009.csv')\n",
    "# df1['Year'] = 2009\n",
    "# ...\n",
    "\n",
    "import glob\n",
    "\n",
    "df={}\n",
    "all_csvs=[]\n",
    "    \n",
    "for i, file in enumerate(glob.glob(\"*.csv\")):\n",
    "    df[i] = pd.read_csv(file)\n",
    "    name = file.split('.')[0]\n",
    "    df[i]['Year'] = name[-4:]\n",
    "    all_csvs.append(df[i])\n",
    "\n",
    "df = pd.concat(all_csvs)\n"
   ]
  },
  {
   "cell_type": "code",
   "execution_count": 157,
   "metadata": {},
   "outputs": [
    {
     "data": {
      "text/html": [
       "<div>\n",
       "<style scoped>\n",
       "    .dataframe tbody tr th:only-of-type {\n",
       "        vertical-align: middle;\n",
       "    }\n",
       "\n",
       "    .dataframe tbody tr th {\n",
       "        vertical-align: top;\n",
       "    }\n",
       "\n",
       "    .dataframe thead th {\n",
       "        text-align: right;\n",
       "    }\n",
       "</style>\n",
       "<table border=\"1\" class=\"dataframe\">\n",
       "  <thead>\n",
       "    <tr style=\"text-align: right;\">\n",
       "      <th></th>\n",
       "      <th>club</th>\n",
       "      <th>last_name</th>\n",
       "      <th>first_name</th>\n",
       "      <th>position</th>\n",
       "      <th>base_salary</th>\n",
       "      <th>guaranteed_compensation</th>\n",
       "      <th>Year</th>\n",
       "    </tr>\n",
       "  </thead>\n",
       "  <tbody>\n",
       "    <tr>\n",
       "      <th>0</th>\n",
       "      <td>CHI</td>\n",
       "      <td>Armas</td>\n",
       "      <td>Chris</td>\n",
       "      <td>M</td>\n",
       "      <td>225000.0</td>\n",
       "      <td>225000.0</td>\n",
       "      <td>2007</td>\n",
       "    </tr>\n",
       "    <tr>\n",
       "      <th>1</th>\n",
       "      <td>CHI</td>\n",
       "      <td>Banner</td>\n",
       "      <td>Michael</td>\n",
       "      <td>M</td>\n",
       "      <td>12900.0</td>\n",
       "      <td>12900.0</td>\n",
       "      <td>2007</td>\n",
       "    </tr>\n",
       "    <tr>\n",
       "      <th>2</th>\n",
       "      <td>CHI</td>\n",
       "      <td>Barrett</td>\n",
       "      <td>Chad</td>\n",
       "      <td>F</td>\n",
       "      <td>41212.5</td>\n",
       "      <td>48712.5</td>\n",
       "      <td>2007</td>\n",
       "    </tr>\n",
       "    <tr>\n",
       "      <th>3</th>\n",
       "      <td>CHI</td>\n",
       "      <td>Blanco</td>\n",
       "      <td>Cuauhtemoc</td>\n",
       "      <td>F</td>\n",
       "      <td>2492316.0</td>\n",
       "      <td>2666778.0</td>\n",
       "      <td>2007</td>\n",
       "    </tr>\n",
       "    <tr>\n",
       "      <th>4</th>\n",
       "      <td>CHI</td>\n",
       "      <td>Brown</td>\n",
       "      <td>C.J.</td>\n",
       "      <td>D</td>\n",
       "      <td>106391.0</td>\n",
       "      <td>106391.0</td>\n",
       "      <td>2007</td>\n",
       "    </tr>\n",
       "  </tbody>\n",
       "</table>\n",
       "</div>"
      ],
      "text/plain": [
       "  club last_name  first_name position  base_salary  guaranteed_compensation  \\\n",
       "0  CHI     Armas       Chris        M     225000.0                 225000.0   \n",
       "1  CHI    Banner     Michael        M      12900.0                  12900.0   \n",
       "2  CHI   Barrett        Chad        F      41212.5                  48712.5   \n",
       "3  CHI    Blanco  Cuauhtemoc        F    2492316.0                2666778.0   \n",
       "4  CHI     Brown        C.J.        D     106391.0                 106391.0   \n",
       "\n",
       "   Year  \n",
       "0  2007  \n",
       "1  2007  \n",
       "2  2007  \n",
       "3  2007  \n",
       "4  2007  "
      ]
     },
     "execution_count": 157,
     "metadata": {},
     "output_type": "execute_result"
    }
   ],
   "source": [
    "df.head()"
   ]
  },
  {
   "cell_type": "code",
   "execution_count": 154,
   "metadata": {},
   "outputs": [
    {
     "data": {
      "text/plain": [
       "189336.0"
      ]
     },
     "execution_count": 154,
     "metadata": {},
     "output_type": "execute_result"
    }
   ],
   "source": [
    "round(df['base_salary'].mean())"
   ]
  },
  {
   "cell_type": "code",
   "execution_count": 187,
   "metadata": {},
   "outputs": [
    {
     "data": {
      "text/plain": [
       "club\n",
       "TOR      743517.0\n",
       "NYCFC    620376.0\n",
       "CHI      454542.0\n",
       "ORL      412735.0\n",
       "LA       364210.0\n",
       "SEA      359468.0\n",
       "POR      344242.0\n",
       "COL      279029.0\n",
       "ATL      259213.0\n",
       "RSL      253942.0\n",
       "KC       239379.0\n",
       "NE       235087.0\n",
       "NYRB     225499.0\n",
       "SJ       221709.0\n",
       "VAN      220011.0\n",
       "CLB      211508.0\n",
       "PHI      210222.0\n",
       "DAL      206572.0\n",
       "MTL      187951.0\n",
       "MNUFC    182446.0\n",
       "DC       178227.0\n",
       "HOU      175145.0\n",
       "LAFC      59004.0\n",
       "Name: base_salary, dtype: float64"
      ]
     },
     "execution_count": 187,
     "metadata": {},
     "output_type": "execute_result"
    }
   ],
   "source": [
    "club_salary = round(df[(df['Year']=='2017')].groupby(['club']).mean())['base_salary'].sort_values(ascending=False)\n",
    "club_salary"
   ]
  },
  {
   "cell_type": "code",
   "execution_count": 193,
   "metadata": {},
   "outputs": [
    {
     "data": {
      "image/png": "[encoded data removed]",
      "text/plain": [
       "<Figure size 864x216 with 1 Axes>"
      ]
     },
     "metadata": {
      "needs_background": "light"
     },
     "output_type": "display_data"
    }
   ],
   "source": [
    "club_salary.plot.bar(x='club', y='base_salary', figsize=(12,3), color='g', title='Average salary by clubs (2017)')\n",
    "plt.savefig('bar.png', bbox_inches = \"tight\")\n",
    "plt.show()"
   ]
  },
  {
   "cell_type": "code",
   "execution_count": 182,
   "metadata": {},
   "outputs": [
    {
     "data": {
      "text/html": [
       "<div>\n",
       "<style scoped>\n",
       "    .dataframe tbody tr th:only-of-type {\n",
       "        vertical-align: middle;\n",
       "    }\n",
       "\n",
       "    .dataframe tbody tr th {\n",
       "        vertical-align: top;\n",
       "    }\n",
       "\n",
       "    .dataframe thead th {\n",
       "        text-align: right;\n",
       "    }\n",
       "</style>\n",
       "<table border=\"1\" class=\"dataframe\">\n",
       "  <thead>\n",
       "    <tr style=\"text-align: right;\">\n",
       "      <th></th>\n",
       "      <th>Year</th>\n",
       "      <th>base_salary</th>\n",
       "      <th>guaranteed_compensation</th>\n",
       "    </tr>\n",
       "  </thead>\n",
       "  <tbody>\n",
       "    <tr>\n",
       "      <th>0</th>\n",
       "      <td>2007</td>\n",
       "      <td>103715.0</td>\n",
       "      <td>113810.0</td>\n",
       "    </tr>\n",
       "    <tr>\n",
       "      <th>1</th>\n",
       "      <td>2008</td>\n",
       "      <td>104706.0</td>\n",
       "      <td>115348.0</td>\n",
       "    </tr>\n",
       "    <tr>\n",
       "      <th>2</th>\n",
       "      <td>2009</td>\n",
       "      <td>120874.0</td>\n",
       "      <td>133706.0</td>\n",
       "    </tr>\n",
       "    <tr>\n",
       "      <th>3</th>\n",
       "      <td>2010</td>\n",
       "      <td>155983.0</td>\n",
       "      <td>173491.0</td>\n",
       "    </tr>\n",
       "    <tr>\n",
       "      <th>4</th>\n",
       "      <td>2011</td>\n",
       "      <td>142840.0</td>\n",
       "      <td>162056.0</td>\n",
       "    </tr>\n",
       "    <tr>\n",
       "      <th>5</th>\n",
       "      <td>2012</td>\n",
       "      <td>156124.0</td>\n",
       "      <td>179166.0</td>\n",
       "    </tr>\n",
       "    <tr>\n",
       "      <th>6</th>\n",
       "      <td>2013</td>\n",
       "      <td>147238.0</td>\n",
       "      <td>165066.0</td>\n",
       "    </tr>\n",
       "    <tr>\n",
       "      <th>7</th>\n",
       "      <td>2014</td>\n",
       "      <td>204008.0</td>\n",
       "      <td>226454.0</td>\n",
       "    </tr>\n",
       "    <tr>\n",
       "      <th>8</th>\n",
       "      <td>2015</td>\n",
       "      <td>264403.0</td>\n",
       "      <td>291933.0</td>\n",
       "    </tr>\n",
       "    <tr>\n",
       "      <th>9</th>\n",
       "      <td>2016</td>\n",
       "      <td>290246.0</td>\n",
       "      <td>316777.0</td>\n",
       "    </tr>\n",
       "    <tr>\n",
       "      <th>10</th>\n",
       "      <td>2017</td>\n",
       "      <td>296978.0</td>\n",
       "      <td>326139.0</td>\n",
       "    </tr>\n",
       "  </tbody>\n",
       "</table>\n",
       "</div>"
      ],
      "text/plain": [
       "    Year  base_salary  guaranteed_compensation\n",
       "0   2007     103715.0                 113810.0\n",
       "1   2008     104706.0                 115348.0\n",
       "2   2009     120874.0                 133706.0\n",
       "3   2010     155983.0                 173491.0\n",
       "4   2011     142840.0                 162056.0\n",
       "5   2012     156124.0                 179166.0\n",
       "6   2013     147238.0                 165066.0\n",
       "7   2014     204008.0                 226454.0\n",
       "8   2015     264403.0                 291933.0\n",
       "9   2016     290246.0                 316777.0\n",
       "10  2017     296978.0                 326139.0"
      ]
     },
     "execution_count": 182,
     "metadata": {},
     "output_type": "execute_result"
    }
   ],
   "source": [
    "avg_by_year = round(df.groupby('Year', as_index=False).mean())\n",
    "avg_by_year"
   ]
  },
  {
   "cell_type": "code",
   "execution_count": 192,
   "metadata": {},
   "outputs": [
    {
     "data": {
      "image/png": "[encoded data removed]",
      "text/plain": [
       "<Figure size 864x216 with 1 Axes>"
      ]
     },
     "metadata": {
      "needs_background": "light"
     },
     "output_type": "display_data"
    }
   ],
   "source": [
    "avg_by_year.plot.line(x='Year', y='base_salary', figsize=(12,3), lw=2, marker='.', markersize=10, grid=True, \n",
    "         title='Average salary by year')\n",
    "plt.xlabel('Years 2007-2017')\n",
    "plt.ylabel('Salary in US $')\n",
    "plt.savefig('line.png', bbox_inches = \"tight\")\n",
    "plt.show()"
   ]
  }
 ],
 "metadata": {
  "kernelspec": {
   "display_name": "Python 3",
   "language": "python",
   "name": "python3"
  },
  "language_info": {
   "codemirror_mode": {
    "name": "ipython",
    "version": 3
   },
   "file_extension": ".py",
   "mimetype": "text/x-python",
   "name": "python",
   "nbconvert_exporter": "python",
   "pygments_lexer": "ipython3",
   "version": "3.7.3"
  }
 },
 "nbformat": 4,
 "nbformat_minor": 2
}
